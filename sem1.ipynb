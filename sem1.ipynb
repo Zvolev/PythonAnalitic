{
 "cells": [
  {
   "cell_type": "markdown",
   "metadata": {},
   "source": [
    "## Задача №1\n",
    "### Напишите функцию, которая на вход принимает два словаря и возвращает один объединенный словарь. Используйте аннотирование типов."
   ]
  },
  {
   "cell_type": "code",
   "execution_count": 6,
   "metadata": {},
   "outputs": [
    {
     "name": "stdout",
     "output_type": "stream",
     "text": [
      "{'One': 1, 'Two': 2, 'Three': 3, 'Four': 4, 'Five': 5, 'Six': 6}\n"
     ]
    }
   ],
   "source": [
    "def join_dict(d1: dict, d2: dict) -> dict:\n",
    "    \"\"\" функция объядинения словарей \"\"\"\n",
    "\n",
    "    # return {**d1, **d2}\n",
    "\n",
    "    d1.update(d2)\n",
    "    return d1\n",
    "\n",
    "\n",
    "dict1 = {'One': 1, 'Two': 2, 'Three': 3}\n",
    "dict2 = {'Four': 4, 'Five': 5, 'Six': 6}\n",
    "\n",
    "print(join_dict(dict1, dict2))\n"
   ]
  },
  {
   "cell_type": "markdown",
   "metadata": {},
   "source": [
    "## Задача 2\n",
    "### Напишите функцию, которая из двух списков делает один словарь, где элементы из первого списка - ключи, а элементы из второго списка - значения"
   ]
  },
  {
   "cell_type": "code",
   "execution_count": 12,
   "metadata": {},
   "outputs": [
    {
     "name": "stdout",
     "output_type": "stream",
     "text": [
      "{'One': 1, 'Two': 2, 'Three': 3}\n"
     ]
    }
   ],
   "source": [
    "def criate_dict(l1: list, l2: list) -> dict:\n",
    "    \"\"\" функция объядинения списков в словари \"\"\"\n",
    "\n",
    "    # dict_new = {}\n",
    "    # for i in range(len(l1)):\n",
    "    #     dict_new[l1[i]] = l2[i]\n",
    "\n",
    "    dict_new = {l1[i]: l2[i] for i in range(len(l1))}\n",
    "    return dict_new\n",
    "\n",
    "\n",
    "list1 = ['One', 'Two', 'Three']\n",
    "list2 = [1, 2, 3]\n",
    "\n",
    "print(criate_dict(list1, list2))\n"
   ]
  },
  {
   "cell_type": "markdown",
   "metadata": {},
   "source": [
    "## Задача 3\n",
    "### Извлеките только два ключа name и age из представленного словаря\n",
    "\n",
    "client_dict = {\"name\": \"John\", \"age\": 25, \"salary\": 5000, \"city\": \"Moscow\"}\n",
    "\n",
    "3.1 Напишите функцию с циклом for Функция на вход принимает:\n",
    "\n",
    "- исходный словарь \n",
    "- ключи, которые нужно извлечь (аргумент по умолчанию) \n",
    "\n",
    "На выходе словарь с нужными ключами \n",
    "Используйте аннотирование типов\n",
    "\n"
   ]
  },
  {
   "cell_type": "code",
   "execution_count": 15,
   "metadata": {},
   "outputs": [
    {
     "name": "stdout",
     "output_type": "stream",
     "text": [
      "{'name': 'John', 'age': 25}\n"
     ]
    }
   ],
   "source": [
    "def extr_dict(d1: dict, l_keys=(\"name\", \"age\")) -> dict:\n",
    "    \"\"\" функция объядинения списков в словари \"\"\"\n",
    "    dict_new = {}\n",
    "    for key in l_keys:\n",
    "        dict_new.update({key: d1[key]})\n",
    "    return dict_new\n",
    "\n",
    "\n",
    "client_dict = {\n",
    "    \"name\": \"John\",\n",
    "    \"age\": 25,\n",
    "    \"salary\": 5000,\n",
    "    \"city\": \"Moscow\"\n",
    "}\n",
    "\n",
    "print(extr_dict(client_dict))\n"
   ]
  },
  {
   "cell_type": "markdown",
   "metadata": {},
   "source": [
    "3.2 Используя dict comprehensions"
   ]
  },
  {
   "cell_type": "code",
   "execution_count": 18,
   "metadata": {},
   "outputs": [
    {
     "name": "stdout",
     "output_type": "stream",
     "text": [
      "{'name': 'John', 'age': 25}\n"
     ]
    }
   ],
   "source": [
    "def extr_dict(d1: dict, l_keys=(\"name\", \"age\")) -> dict:\n",
    "    \"\"\" функция объядинения списков в словари \"\"\"\n",
    "\n",
    "    dict_new = {key: d1[key] for key in l_keys}\n",
    "\n",
    "    return dict_new\n",
    "\n",
    "\n",
    "client_dict = {\n",
    "    \"name\": \"John\",\n",
    "    \"age\": 25,\n",
    "    \"salary\": 5000,\n",
    "    \"city\": \"Moscow\"\n",
    "}\n",
    "\n",
    "print(extr_dict(client_dict))\n"
   ]
  }
 ],
 "metadata": {
  "kernelspec": {
   "display_name": "Python 3",
   "language": "python",
   "name": "python3"
  },
  "language_info": {
   "codemirror_mode": {
    "name": "ipython",
    "version": 3
   },
   "file_extension": ".py",
   "mimetype": "text/x-python",
   "name": "python",
   "nbconvert_exporter": "python",
   "pygments_lexer": "ipython3",
   "version": "3.11.1"
  },
  "orig_nbformat": 4
 },
 "nbformat": 4,
 "nbformat_minor": 2
}
